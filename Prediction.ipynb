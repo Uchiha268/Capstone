{
 "cells": [
  {
   "cell_type": "code",
   "execution_count": 1,
   "metadata": {},
   "outputs": [],
   "source": [
    "from dataset_loader import METRLADatasetLoader\n",
    "\n",
    "loader = METRLADatasetLoader()\n",
    "dataset = loader.get_dataset()"
   ]
  },
  {
   "cell_type": "code",
   "execution_count": 2,
   "metadata": {},
   "outputs": [],
   "source": [
    "from torch_geometric_temporal.signal import temporal_signal_split\n",
    "\n",
    "train_dataset, test_dataset = temporal_signal_split(dataset, train_ratio=0.8)"
   ]
  },
  {
   "cell_type": "code",
   "execution_count": 3,
   "metadata": {},
   "outputs": [],
   "source": [
    "import numpy as np"
   ]
  },
  {
   "cell_type": "code",
   "execution_count": 4,
   "metadata": {},
   "outputs": [],
   "source": [
    "adj_mat = np.array([[0.0 for i in range(dataset[0].x.shape[0])] for j in range(dataset[0].x.shape[0])]) # 207x207 matrix for representing connections between each of the 207 sensors (nodes)\n",
    "\n",
    "edge_attr = np.array(dataset[0].edge_attr) # array of edge attributes for each edge by index\n",
    "src = np.array(dataset[0].edge_index[0]) # array of source nodes for each edge by index\n",
    "dest = np.array(dataset[0].edge_index[1]) # array of destination nodes for each edge by index\n",
    "\n",
    "for edge_index in range(len(edge_attr)):\n",
    "    adj_mat[src[edge_index]][dest[edge_index]] = edge_attr[edge_index]\n",
    "\n",
    "for edge_index in range(len(edge_attr)):\n",
    "    if adj_mat[dest[edge_index]][src[edge_index]] == 0.0:\n",
    "        adj_mat[dest[edge_index]][src[edge_index]] = edge_attr[edge_index]"
   ]
  },
  {
   "cell_type": "code",
   "execution_count": 5,
   "metadata": {},
   "outputs": [],
   "source": [
    "import collections\n",
    "import pandas as pd"
   ]
  },
  {
   "cell_type": "code",
   "execution_count": 6,
   "metadata": {},
   "outputs": [],
   "source": [
    "def create_corr_matrices(snapshot):\n",
    "    dict_speed = collections.defaultdict(list)\n",
    "    dict_density = collections.defaultdict(list)\n",
    "\n",
    "    for index, sensor in enumerate(snapshot.x):\n",
    "        dict_speed[index] = np.array(sensor[0])\n",
    "        dict_density[index] = np.array(sensor[1])\n",
    "\n",
    "    df_speed = pd.DataFrame(dict_speed)\n",
    "    df_density = pd.DataFrame(dict_density)\n",
    "\n",
    "    # Calculate the correlation matrices\n",
    "    corr_speed = df_speed.corr(method = \"spearman\")\n",
    "    corr_density = df_density.corr(method = \"spearman\")\n",
    "\n",
    "    return corr_speed, corr_density"
   ]
  },
  {
   "cell_type": "code",
   "execution_count": 7,
   "metadata": {},
   "outputs": [],
   "source": [
    "# Function to calculate correlation between two nodes using adjacency matrix\n",
    "def calculate_correlation(node1, node2, corr_mat):\n",
    "    return corr_mat[node1][node2] * ( adj_mat[node1][node2] )\n",
    "\n",
    "# Function to grow subgraph using BFS\n",
    "def grow_subgraph(start_node, unvisited_nodes, adj_mat, speed_corr_mat, speed_threshold, density_corr_mat, density_threshold):\n",
    "    subgraph = set()\n",
    "    queue = [start_node]\n",
    "\n",
    "    while queue:\n",
    "        current_node = queue.pop(0)\n",
    "\n",
    "        if current_node not in subgraph:\n",
    "            subgraph.add(current_node)\n",
    "            neighbors = [dest_node for dest_node in unvisited_nodes if adj_mat[current_node][dest_node] > 0 and dest_node != current_node]\n",
    "\n",
    "            for neighbor in neighbors:\n",
    "                speed_correlation = calculate_correlation(current_node, neighbor, speed_corr_mat)\n",
    "                if np.isnan(speed_correlation):\n",
    "                    speed_correlation = 0.0\n",
    "                density_correlation = calculate_correlation(current_node, neighbor, density_corr_mat)\n",
    "                if np.isnan(density_correlation):\n",
    "                    density_correlation = 0.0\n",
    "\n",
    "                if speed_correlation >= speed_threshold and density_correlation >= density_threshold:\n",
    "                    queue.append(neighbor)\n",
    "\n",
    "    return subgraph"
   ]
  },
  {
   "cell_type": "code",
   "execution_count": 8,
   "metadata": {},
   "outputs": [],
   "source": [
    "def create_subgraphs(snapshot, speed_correlation_threshold, density_correlation_threshold):\n",
    "    # Create a list to keep track of nodes that are already part of a subgraph\n",
    "    unvisited_nodes = set(range(dataset[0].x.shape[0]))\n",
    "\n",
    "    # Initialize an empty list to store the subgraphs\n",
    "    subgraphs = []\n",
    "\n",
    "    # Iterate through unvisited nodes to grow subgraphs\n",
    "    while unvisited_nodes:\n",
    "        node = unvisited_nodes.pop()\n",
    "\n",
    "        spearman_speed, spearman_density = create_corr_matrices(snapshot)\n",
    "        subgraph = grow_subgraph(node, unvisited_nodes, adj_mat, spearman_speed, speed_correlation_threshold, spearman_density, density_correlation_threshold)\n",
    "        subgraphs.append(subgraph)\n",
    "\n",
    "        unvisited_nodes = unvisited_nodes.difference(subgraph)\n",
    "\n",
    "    return subgraphs"
   ]
  },
  {
   "cell_type": "code",
   "execution_count": 9,
   "metadata": {},
   "outputs": [
    {
     "name": "stdout",
     "output_type": "stream",
     "text": [
      "Subgraph 1: {0, 67, 36, 37, 199, 140, 13, 142, 111, 143, 145, 114, 115, 116, 109, 54, 51, 58}\n",
      "Subgraph 2: {1, 135, 177, 184, 123}\n",
      "Subgraph 3: {2, 132, 7, 11, 152, 28, 167, 178, 53, 55, 183, 201, 78, 79, 85, 105, 106, 107, 110}\n",
      "Subgraph 4: {192, 3, 5}\n",
      "Subgraph 5: {33, 4, 6, 15}\n",
      "Subgraph 6: {8, 185}\n",
      "Subgraph 7: {9}\n",
      "Subgraph 8: {10, 156}\n",
      "Subgraph 9: {128, 12, 17, 20, 22, 154, 155, 157, 159, 160, 161, 162, 163, 32, 40, 176, 187, 188, 191, 193, 195, 68, 198, 70, 206, 80, 83, 90, 96, 97, 98, 102, 103, 122, 127}\n",
      "Subgraph 10: {130, 131, 137, 141, 14, 146, 150, 151, 158, 164, 41, 43, 47, 52, 60, 190, 63, 69, 71, 72, 73, 75, 204, 77, 76, 81, 82, 84, 87, 88, 113}\n",
      "Subgraph 11: {101, 166, 133, 134, 138, 16, 29}\n",
      "Subgraph 12: {18, 35}\n",
      "Subgraph 13: {39, 74, 175, 19, 119, 57, 94}\n",
      "Subgraph 14: {200, 121, 50, 21}\n",
      "Subgraph 15: {165, 174, 23}\n",
      "Subgraph 16: {168, 169, 42, 171, 173, 24, 62}\n",
      "Subgraph 17: {129, 49}\n",
      "Subgraph 18: {136}\n",
      "Subgraph 19: {139}\n",
      "Subgraph 20: {144, 91, 93}\n",
      "Subgraph 21: {147}\n",
      "Subgraph 22: {148}\n",
      "Subgraph 23: {99, 149}\n",
      "Subgraph 24: {120, 25}\n",
      "Subgraph 25: {153, 202, 203, 45}\n",
      "Subgraph 26: {26}\n",
      "Subgraph 27: {27}\n",
      "Subgraph 28: {65, 30}\n",
      "Subgraph 29: {31}\n",
      "Subgraph 30: {34, 104, 182, 89, 186}\n",
      "Subgraph 31: {48, 38}\n",
      "Subgraph 32: {64}\n",
      "Subgraph 33: {66}\n",
      "Subgraph 34: {194}\n",
      "Subgraph 35: {196}\n",
      "Subgraph 36: {100, 197}\n",
      "Subgraph 37: {205}\n",
      "Subgraph 38: {189, 126}\n",
      "Subgraph 39: {180, 172, 181, 86}\n",
      "Subgraph 40: {170}\n",
      "Subgraph 41: {44}\n",
      "Subgraph 42: {108}\n",
      "Subgraph 43: {46}\n",
      "Subgraph 44: {112}\n",
      "Subgraph 45: {92}\n",
      "Subgraph 46: {179}\n",
      "Subgraph 47: {117}\n",
      "Subgraph 48: {61}\n",
      "Subgraph 49: {118}\n",
      "Subgraph 50: {56}\n",
      "Subgraph 51: {59}\n",
      "Subgraph 52: {124}\n",
      "Subgraph 53: {125, 95}\n"
     ]
    }
   ],
   "source": [
    "# Set correlation thresholds for subgraph growth\n",
    "speed_correlation_threshold = 0.2  # Adjust as needed\n",
    "density_correlation_threshold = 0.0  # Adjust as needed\n",
    "\n",
    "subgraphs = create_subgraphs(train_dataset[1255], speed_correlation_threshold, density_correlation_threshold)\n",
    "\n",
    "# Print the resulting subgraphs\n",
    "for index, subgraph in enumerate(subgraphs):\n",
    "    print(f\"Subgraph {index + 1}: {subgraph}\")"
   ]
  },
  {
   "cell_type": "code",
   "execution_count": 10,
   "metadata": {},
   "outputs": [],
   "source": [
    "def create_subgraph_corr_matrices(subgraphs, snapshot):\n",
    "    dict_speed = collections.defaultdict(list)\n",
    "    dict_density = collections.defaultdict(list)\n",
    "\n",
    "    for index, subgraph in enumerate(subgraphs):\n",
    "        dict_speed[index] = np.array([np.mean(np.array([train_dataset[1255].x[sensor][0][timestep] for sensor in subgraph])) for timestep in range(dataset[0].x.shape[2])])\n",
    "        dict_density[index] = np.array([np.mean(np.array([train_dataset[1255].x[sensor][1][timestep] for sensor in subgraph])) for timestep in range(dataset[0].x.shape[2])])\n",
    "\n",
    "    df_speed = pd.DataFrame(dict_speed)\n",
    "    df_density = pd.DataFrame(dict_density)\n",
    "\n",
    "    corr_speed = df_speed.corr()\n",
    "    corr_density = df_density.corr()\n",
    "\n",
    "    return corr_speed, corr_density"
   ]
  },
  {
   "cell_type": "code",
   "execution_count": 11,
   "metadata": {},
   "outputs": [],
   "source": [
    "import torch\n",
    "import torch.nn.functional as F\n",
    "from torch_geometric_temporal.nn.recurrent import A3TGCN"
   ]
  },
  {
   "cell_type": "code",
   "execution_count": 12,
   "metadata": {},
   "outputs": [],
   "source": [
    "class TemporalGNN(torch.nn.Module):\n",
    "    def __init__(self, node_features, periods):\n",
    "        super(TemporalGNN, self).__init__()\n",
    "        # Attention Temporal Graph Convolutional Cell\n",
    "        self.tgnn = A3TGCN(in_channels=node_features,\n",
    "                           out_channels=32,\n",
    "                           periods=periods,\n",
    "                           improved=True)\n",
    "        # Equals single-shot prediction\n",
    "        self.linear = torch.nn.Linear(32, periods)\n",
    "\n",
    "    def forward(self, x, edge_index):\n",
    "        \"\"\"\n",
    "        x = Node features for T time steps\n",
    "        edge_index = Graph edge indices\n",
    "        \"\"\"\n",
    "        h = self.tgnn(x, edge_index)\n",
    "        h = F.relu(h)\n",
    "        h = self.linear(h)\n",
    "        return h"
   ]
  },
  {
   "cell_type": "code",
   "execution_count": 13,
   "metadata": {},
   "outputs": [],
   "source": [
    "# device support\n",
    "device = torch.device('cpu') # cpu for cpu, cuda for gpu\n",
    "subset = 2000 # subset of train dataset for training on weaker devices\n",
    "epochs = 20\n",
    "iterations = 1"
   ]
  },
  {
   "cell_type": "code",
   "execution_count": 14,
   "metadata": {},
   "outputs": [],
   "source": [
    "# import random\n",
    "# import gc # garbage collector"
   ]
  },
  {
   "cell_type": "code",
   "execution_count": 15,
   "metadata": {
    "scrolled": true
   },
   "outputs": [
    {
     "name": "stdout",
     "output_type": "stream",
     "text": [
      "Running training...\n"
     ]
    },
    {
     "ename": "KeyboardInterrupt",
     "evalue": "",
     "output_type": "error",
     "traceback": [
      "\u001b[0;31m---------------------------------------------------------------------------\u001b[0m",
      "\u001b[0;31mKeyboardInterrupt\u001b[0m                         Traceback (most recent call last)",
      "Cell \u001b[0;32mIn[15], line 22\u001b[0m\n\u001b[1;32m     18\u001b[0m \u001b[38;5;66;03m# snapshot = train_dataset[((iteration * subset) + step) % train_dataset.snapshot_count].to(device) # shift snapshot subset every iteration\u001b[39;00m\n\u001b[1;32m     19\u001b[0m \u001b[38;5;66;03m# snapshot = train_dataset[random.randrange(train_dataset.snapshot_count)].to(device) # random snapshot\u001b[39;00m\n\u001b[1;32m     20\u001b[0m \u001b[38;5;66;03m# Get model predictions\u001b[39;00m\n\u001b[1;32m     21\u001b[0m y_hat_speed \u001b[38;5;241m=\u001b[39m model_speed(snapshot\u001b[38;5;241m.\u001b[39mx, snapshot\u001b[38;5;241m.\u001b[39medge_index)\n\u001b[0;32m---> 22\u001b[0m y_hat_density \u001b[38;5;241m=\u001b[39m \u001b[43mmodel_density\u001b[49m\u001b[43m(\u001b[49m\u001b[43msnapshot\u001b[49m\u001b[38;5;241;43m.\u001b[39;49m\u001b[43mx\u001b[49m\u001b[43m,\u001b[49m\u001b[43m \u001b[49m\u001b[43msnapshot\u001b[49m\u001b[38;5;241;43m.\u001b[39;49m\u001b[43medge_index\u001b[49m\u001b[43m)\u001b[49m\n\u001b[1;32m     23\u001b[0m \u001b[38;5;66;03m# Mean squared error\u001b[39;00m\n\u001b[1;32m     24\u001b[0m loss_speed \u001b[38;5;241m=\u001b[39m loss_speed \u001b[38;5;241m+\u001b[39m torch\u001b[38;5;241m.\u001b[39mmean((y_hat_speed\u001b[38;5;241m-\u001b[39msnapshot\u001b[38;5;241m.\u001b[39my\u001b[38;5;241m.\u001b[39mpermute(\u001b[38;5;241m1\u001b[39m, \u001b[38;5;241m0\u001b[39m, \u001b[38;5;241m2\u001b[39m)[\u001b[38;5;241m0\u001b[39m])\u001b[38;5;241m*\u001b[39m\u001b[38;5;241m*\u001b[39m\u001b[38;5;241m2\u001b[39m)\n",
      "File \u001b[0;32m/opt/homebrew/lib/python3.11/site-packages/torch/nn/modules/module.py:1501\u001b[0m, in \u001b[0;36mModule._call_impl\u001b[0;34m(self, *args, **kwargs)\u001b[0m\n\u001b[1;32m   1496\u001b[0m \u001b[38;5;66;03m# If we don't have any hooks, we want to skip the rest of the logic in\u001b[39;00m\n\u001b[1;32m   1497\u001b[0m \u001b[38;5;66;03m# this function, and just call forward.\u001b[39;00m\n\u001b[1;32m   1498\u001b[0m \u001b[38;5;28;01mif\u001b[39;00m \u001b[38;5;129;01mnot\u001b[39;00m (\u001b[38;5;28mself\u001b[39m\u001b[38;5;241m.\u001b[39m_backward_hooks \u001b[38;5;129;01mor\u001b[39;00m \u001b[38;5;28mself\u001b[39m\u001b[38;5;241m.\u001b[39m_backward_pre_hooks \u001b[38;5;129;01mor\u001b[39;00m \u001b[38;5;28mself\u001b[39m\u001b[38;5;241m.\u001b[39m_forward_hooks \u001b[38;5;129;01mor\u001b[39;00m \u001b[38;5;28mself\u001b[39m\u001b[38;5;241m.\u001b[39m_forward_pre_hooks\n\u001b[1;32m   1499\u001b[0m         \u001b[38;5;129;01mor\u001b[39;00m _global_backward_pre_hooks \u001b[38;5;129;01mor\u001b[39;00m _global_backward_hooks\n\u001b[1;32m   1500\u001b[0m         \u001b[38;5;129;01mor\u001b[39;00m _global_forward_hooks \u001b[38;5;129;01mor\u001b[39;00m _global_forward_pre_hooks):\n\u001b[0;32m-> 1501\u001b[0m     \u001b[38;5;28;01mreturn\u001b[39;00m \u001b[43mforward_call\u001b[49m\u001b[43m(\u001b[49m\u001b[38;5;241;43m*\u001b[39;49m\u001b[43margs\u001b[49m\u001b[43m,\u001b[49m\u001b[43m \u001b[49m\u001b[38;5;241;43m*\u001b[39;49m\u001b[38;5;241;43m*\u001b[39;49m\u001b[43mkwargs\u001b[49m\u001b[43m)\u001b[49m\n\u001b[1;32m   1502\u001b[0m \u001b[38;5;66;03m# Do not call functions when jit is used\u001b[39;00m\n\u001b[1;32m   1503\u001b[0m full_backward_hooks, non_full_backward_hooks \u001b[38;5;241m=\u001b[39m [], []\n",
      "Cell \u001b[0;32mIn[12], line 17\u001b[0m, in \u001b[0;36mTemporalGNN.forward\u001b[0;34m(self, x, edge_index)\u001b[0m\n\u001b[1;32m     12\u001b[0m \u001b[38;5;28;01mdef\u001b[39;00m \u001b[38;5;21mforward\u001b[39m(\u001b[38;5;28mself\u001b[39m, x, edge_index):\n\u001b[1;32m     13\u001b[0m \u001b[38;5;250m    \u001b[39m\u001b[38;5;124;03m\"\"\"\u001b[39;00m\n\u001b[1;32m     14\u001b[0m \u001b[38;5;124;03m    x = Node features for T time steps\u001b[39;00m\n\u001b[1;32m     15\u001b[0m \u001b[38;5;124;03m    edge_index = Graph edge indices\u001b[39;00m\n\u001b[1;32m     16\u001b[0m \u001b[38;5;124;03m    \"\"\"\u001b[39;00m\n\u001b[0;32m---> 17\u001b[0m     h \u001b[38;5;241m=\u001b[39m \u001b[38;5;28;43mself\u001b[39;49m\u001b[38;5;241;43m.\u001b[39;49m\u001b[43mtgnn\u001b[49m\u001b[43m(\u001b[49m\u001b[43mx\u001b[49m\u001b[43m,\u001b[49m\u001b[43m \u001b[49m\u001b[43medge_index\u001b[49m\u001b[43m)\u001b[49m\n\u001b[1;32m     18\u001b[0m     h \u001b[38;5;241m=\u001b[39m F\u001b[38;5;241m.\u001b[39mrelu(h)\n\u001b[1;32m     19\u001b[0m     h \u001b[38;5;241m=\u001b[39m \u001b[38;5;28mself\u001b[39m\u001b[38;5;241m.\u001b[39mlinear(h)\n",
      "File \u001b[0;32m/opt/homebrew/lib/python3.11/site-packages/torch/nn/modules/module.py:1501\u001b[0m, in \u001b[0;36mModule._call_impl\u001b[0;34m(self, *args, **kwargs)\u001b[0m\n\u001b[1;32m   1496\u001b[0m \u001b[38;5;66;03m# If we don't have any hooks, we want to skip the rest of the logic in\u001b[39;00m\n\u001b[1;32m   1497\u001b[0m \u001b[38;5;66;03m# this function, and just call forward.\u001b[39;00m\n\u001b[1;32m   1498\u001b[0m \u001b[38;5;28;01mif\u001b[39;00m \u001b[38;5;129;01mnot\u001b[39;00m (\u001b[38;5;28mself\u001b[39m\u001b[38;5;241m.\u001b[39m_backward_hooks \u001b[38;5;129;01mor\u001b[39;00m \u001b[38;5;28mself\u001b[39m\u001b[38;5;241m.\u001b[39m_backward_pre_hooks \u001b[38;5;129;01mor\u001b[39;00m \u001b[38;5;28mself\u001b[39m\u001b[38;5;241m.\u001b[39m_forward_hooks \u001b[38;5;129;01mor\u001b[39;00m \u001b[38;5;28mself\u001b[39m\u001b[38;5;241m.\u001b[39m_forward_pre_hooks\n\u001b[1;32m   1499\u001b[0m         \u001b[38;5;129;01mor\u001b[39;00m _global_backward_pre_hooks \u001b[38;5;129;01mor\u001b[39;00m _global_backward_hooks\n\u001b[1;32m   1500\u001b[0m         \u001b[38;5;129;01mor\u001b[39;00m _global_forward_hooks \u001b[38;5;129;01mor\u001b[39;00m _global_forward_pre_hooks):\n\u001b[0;32m-> 1501\u001b[0m     \u001b[38;5;28;01mreturn\u001b[39;00m \u001b[43mforward_call\u001b[49m\u001b[43m(\u001b[49m\u001b[38;5;241;43m*\u001b[39;49m\u001b[43margs\u001b[49m\u001b[43m,\u001b[49m\u001b[43m \u001b[49m\u001b[38;5;241;43m*\u001b[39;49m\u001b[38;5;241;43m*\u001b[39;49m\u001b[43mkwargs\u001b[49m\u001b[43m)\u001b[49m\n\u001b[1;32m   1502\u001b[0m \u001b[38;5;66;03m# Do not call functions when jit is used\u001b[39;00m\n\u001b[1;32m   1503\u001b[0m full_backward_hooks, non_full_backward_hooks \u001b[38;5;241m=\u001b[39m [], []\n",
      "File \u001b[0;32m/opt/homebrew/lib/python3.11/site-packages/torch_geometric_temporal/nn/recurrent/attentiontemporalgcn.py:74\u001b[0m, in \u001b[0;36mA3TGCN.forward\u001b[0;34m(self, X, edge_index, edge_weight, H)\u001b[0m\n\u001b[1;32m     59\u001b[0m \u001b[38;5;250m\u001b[39m\u001b[38;5;124;03m\"\"\"\u001b[39;00m\n\u001b[1;32m     60\u001b[0m \u001b[38;5;124;03mMaking a forward pass. If edge weights are not present the forward pass\u001b[39;00m\n\u001b[1;32m     61\u001b[0m \u001b[38;5;124;03mdefaults to an unweighted graph. If the hidden state matrix is not present\u001b[39;00m\n\u001b[0;32m   (...)\u001b[0m\n\u001b[1;32m     71\u001b[0m \u001b[38;5;124;03m    * **H** (PyTorch Float Tensor): Hidden state matrix for all nodes.\u001b[39;00m\n\u001b[1;32m     72\u001b[0m \u001b[38;5;124;03m\"\"\"\u001b[39;00m\n\u001b[1;32m     73\u001b[0m H_accum \u001b[38;5;241m=\u001b[39m \u001b[38;5;241m0\u001b[39m\n\u001b[0;32m---> 74\u001b[0m probs \u001b[38;5;241m=\u001b[39m \u001b[43mtorch\u001b[49m\u001b[38;5;241;43m.\u001b[39;49m\u001b[43mnn\u001b[49m\u001b[38;5;241;43m.\u001b[39;49m\u001b[43mfunctional\u001b[49m\u001b[38;5;241;43m.\u001b[39;49m\u001b[43msoftmax\u001b[49m\u001b[43m(\u001b[49m\u001b[38;5;28;43mself\u001b[39;49m\u001b[38;5;241;43m.\u001b[39;49m\u001b[43m_attention\u001b[49m\u001b[43m,\u001b[49m\u001b[43m \u001b[49m\u001b[43mdim\u001b[49m\u001b[38;5;241;43m=\u001b[39;49m\u001b[38;5;241;43m0\u001b[39;49m\u001b[43m)\u001b[49m\n\u001b[1;32m     75\u001b[0m \u001b[38;5;28;01mfor\u001b[39;00m period \u001b[38;5;129;01min\u001b[39;00m \u001b[38;5;28mrange\u001b[39m(\u001b[38;5;28mself\u001b[39m\u001b[38;5;241m.\u001b[39mperiods):\n\u001b[1;32m     76\u001b[0m     H_accum \u001b[38;5;241m=\u001b[39m H_accum \u001b[38;5;241m+\u001b[39m probs[period] \u001b[38;5;241m*\u001b[39m \u001b[38;5;28mself\u001b[39m\u001b[38;5;241m.\u001b[39m_base_tgcn(\n\u001b[1;32m     77\u001b[0m         X[:, :, period], edge_index, edge_weight, H\n\u001b[1;32m     78\u001b[0m     )\n",
      "File \u001b[0;32m/opt/homebrew/lib/python3.11/site-packages/torch/nn/functional.py:1843\u001b[0m, in \u001b[0;36msoftmax\u001b[0;34m(input, dim, _stacklevel, dtype)\u001b[0m\n\u001b[1;32m   1841\u001b[0m     dim \u001b[38;5;241m=\u001b[39m _get_softmax_dim(\u001b[38;5;124m\"\u001b[39m\u001b[38;5;124msoftmax\u001b[39m\u001b[38;5;124m\"\u001b[39m, \u001b[38;5;28minput\u001b[39m\u001b[38;5;241m.\u001b[39mdim(), _stacklevel)\n\u001b[1;32m   1842\u001b[0m \u001b[38;5;28;01mif\u001b[39;00m dtype \u001b[38;5;129;01mis\u001b[39;00m \u001b[38;5;28;01mNone\u001b[39;00m:\n\u001b[0;32m-> 1843\u001b[0m     ret \u001b[38;5;241m=\u001b[39m \u001b[38;5;28;43minput\u001b[39;49m\u001b[38;5;241;43m.\u001b[39;49m\u001b[43msoftmax\u001b[49m\u001b[43m(\u001b[49m\u001b[43mdim\u001b[49m\u001b[43m)\u001b[49m\n\u001b[1;32m   1844\u001b[0m \u001b[38;5;28;01melse\u001b[39;00m:\n\u001b[1;32m   1845\u001b[0m     ret \u001b[38;5;241m=\u001b[39m \u001b[38;5;28minput\u001b[39m\u001b[38;5;241m.\u001b[39msoftmax(dim, dtype\u001b[38;5;241m=\u001b[39mdtype)\n",
      "\u001b[0;31mKeyboardInterrupt\u001b[0m: "
     ]
    }
   ],
   "source": [
    "model_speed = TemporalGNN(node_features=2, periods=12).to(device)\n",
    "model_density = TemporalGNN(node_features=2, periods=12).to(device)\n",
    "optimizer_speed = torch.optim.Adam(model_speed.parameters(), lr=0.01)\n",
    "optimizer_density = torch.optim.Adam(model_density.parameters(), lr=0.01)\n",
    "model_speed.train()\n",
    "model_density.train()\n",
    "\n",
    "# gc.collect()\n",
    "# torch.cuda.empty_cache()\n",
    "\n",
    "print(\"Running training...\")\n",
    "for iteration in range(iterations):\n",
    "    for epoch in range(epochs):\n",
    "        loss_speed = 0\n",
    "        loss_density = 0\n",
    "        for step in range(subset):\n",
    "            snapshot = train_dataset[step].to(device)\n",
    "            # snapshot = train_dataset[((iteration * subset) + step) % train_dataset.snapshot_count].to(device) # shift snapshot subset every iteration\n",
    "            # snapshot = train_dataset[random.randrange(train_dataset.snapshot_count)].to(device) # random snapshot\n",
    "            # Get model predictions\n",
    "            y_hat_speed = model_speed(snapshot.x, snapshot.edge_index)\n",
    "            y_hat_density = model_density(snapshot.x, snapshot.edge_index)\n",
    "            # Mean squared error\n",
    "            loss_speed = loss_speed + torch.mean((y_hat_speed-snapshot.y.permute(1, 0, 2)[0])**2)\n",
    "            loss_density = loss_density + torch.mean((y_hat_density-snapshot.y.permute(1, 0, 2)[1])**2)\n",
    "\n",
    "        loss_speed = loss_speed / (step + 1)\n",
    "        loss_density = loss_density / (step + 1)\n",
    "        loss_speed.backward()\n",
    "        loss_density.backward()\n",
    "        optimizer_speed.step()\n",
    "        optimizer_speed.zero_grad()\n",
    "        optimizer_density.step()\n",
    "        optimizer_density.zero_grad()\n",
    "        print(\"Epoch speed {} train MSE: {:.4f}\".format(iteration * epochs + epoch + 1, loss_speed.item()))\n",
    "        print(\"Epoch density {} train MSE: {:.4f}\".format(iteration * epochs + epoch + 1, loss_density.item()))\n",
    "\n",
    "        # gc.collect()\n",
    "        # torch.cuda.empty_cache()\n"
   ]
  },
  {
   "cell_type": "code",
   "execution_count": 16,
   "metadata": {},
   "outputs": [],
   "source": [
    "import pickle"
   ]
  },
  {
   "cell_type": "code",
   "execution_count": 18,
   "metadata": {},
   "outputs": [],
   "source": [
    "# save the speed model as a pickle file\n",
    "model_pkl_file = \"./traffic_prediction_speed_model_cpu.pkl\"\n",
    "\n",
    "with open(model_pkl_file, 'wb') as file:\n",
    "    pickle.dump(model_speed, file)"
   ]
  },
  {
   "cell_type": "code",
   "execution_count": 19,
   "metadata": {},
   "outputs": [],
   "source": [
    "# save the density model as a pickle file\n",
    "model_pkl_file = \"./traffic_prediction_density_model_cpu.pkl\"\n",
    "\n",
    "with open(model_pkl_file, 'wb') as file:\n",
    "    pickle.dump(model_density, file)"
   ]
  },
  {
   "cell_type": "code",
   "execution_count": 17,
   "metadata": {},
   "outputs": [],
   "source": [
    "# load the speed model from the pickle file\n",
    "model_pkl_file = \"./traffic_prediction_speed_model_cpu.pkl\"\n",
    "model_speed = pickle.load(open(model_pkl_file, 'rb'))"
   ]
  },
  {
   "cell_type": "code",
   "execution_count": 18,
   "metadata": {},
   "outputs": [],
   "source": [
    "# load the density model from the pickle file\n",
    "model_pkl_file = \"./traffic_prediction_density_model_cpu.pkl\"\n",
    "model_density = pickle.load(open(model_pkl_file, 'rb'))"
   ]
  },
  {
   "cell_type": "code",
   "execution_count": 19,
   "metadata": {},
   "outputs": [],
   "source": [
    "horizon = 300\n",
    "hour = 1255\n",
    "sensor = 13\n",
    "timestep = 0"
   ]
  },
  {
   "cell_type": "code",
   "execution_count": 20,
   "metadata": {},
   "outputs": [
    {
     "name": "stdout",
     "output_type": "stream",
     "text": [
      "Test speed MSE: 1.3755\n",
      "Test density MSE: 0.3157\n"
     ]
    }
   ],
   "source": [
    "model_speed.eval()\n",
    "model_density.eval()\n",
    "loss_speed = 0\n",
    "loss_density = 0\n",
    "\n",
    "# Store for analysis\n",
    "predictions_speed = []\n",
    "labels_speed = []\n",
    "predictions_density = []\n",
    "labels_density = []\n",
    "anomalies_speed = [test_dataset[hour + i].y.permute(1, 0, 2)[0] for i in range(horizon)] # initialized all to actual graph cause i don't know what to do, anomaly isn't actually related to actual graph\n",
    "anomalies_density = [test_dataset[hour + i].y.permute(1, 0, 2)[1] for i in range(horizon)] # initialized all to actual graph cause i don't know what to do, anomaly isn't actually related to actual graph\n",
    "\n",
    "# gc.collect()\n",
    "# torch.cuda.empty_cache()\n",
    "\n",
    "for step in range(horizon):\n",
    "    snapshot = test_dataset[hour + step].to(device)\n",
    "\n",
    "    # Get predictions\n",
    "    y_hat_speed = model_speed(snapshot.x, snapshot.edge_index)\n",
    "    y_hat_density = model_density(snapshot.x, snapshot.edge_index)\n",
    "\n",
    "    # Mean squared error\n",
    "    loss_speed = loss_speed + torch.mean((y_hat_speed-snapshot.y.permute(1, 0, 2)[0]) ** 2)\n",
    "    loss_density = loss_density + torch.mean((y_hat_density-snapshot.y.permute(1, 0, 2)[1]) ** 2)\n",
    "\n",
    "    if step > 1:\n",
    "        # acceleration or deviation\n",
    "        acc_speed = torch.mean(abs((y_hat_speed - predictions_speed[-1]) / predictions_speed[-1]))\n",
    "        if acc_speed > 1: # random value for now\n",
    "            anomalies_speed[step] = y_hat_speed # mark point on predicted graph if it exceeds some threshold of acceleration\n",
    "        acc_density = torch.mean(abs((y_hat_density - predictions_density[-1]) / predictions_density[-1]))\n",
    "        if acc_density > 1: # random value for now\n",
    "            anomalies_density[step] = y_hat_density # mark point on predicted graph if it exceeds some threshold of acceleration\n",
    "\n",
    "    labels_speed.append(snapshot.y.permute(1, 0, 2)[0])\n",
    "    labels_density.append(snapshot.y.permute(1, 0, 2)[1])\n",
    "    predictions_speed.append(y_hat_speed)\n",
    "    predictions_density.append(y_hat_density)\n",
    "\n",
    "    # gc.collect()\n",
    "    # torch.cuda.empty_cache()\n",
    "\n",
    "loss_speed = loss_speed / (step + 1)\n",
    "loss_speed = loss_speed.item()\n",
    "loss_density = loss_density / (step + 1)\n",
    "loss_density = loss_density.item()\n",
    "\n",
    "print(\"Test speed MSE: {:.4f}\".format(loss_speed))\n",
    "print(\"Test density MSE: {:.4f}\".format(loss_density))"
   ]
  },
  {
   "cell_type": "code",
   "execution_count": 21,
   "metadata": {},
   "outputs": [],
   "source": [
    "speed_preds = np.asarray([pred[sensor][timestep].detach().cpu().numpy() for pred in predictions_speed])\n",
    "speed_labels  = np.asarray([label[sensor][timestep].detach().cpu().numpy() for label in labels_speed])\n",
    "speed_anoms = np.asarray([anom[sensor][timestep].detach().cpu().numpy() for anom in anomalies_speed])\n",
    "density_preds = np.asarray([pred[sensor][timestep].detach().cpu().numpy() for pred in predictions_density])\n",
    "density_labels  = np.asarray([label[sensor][timestep].detach().cpu().numpy() for label in labels_density])\n",
    "density_anoms = np.asarray([anom[sensor][timestep].detach().cpu().numpy() for anom in anomalies_density])"
   ]
  },
  {
   "cell_type": "code",
   "execution_count": 22,
   "metadata": {},
   "outputs": [],
   "source": [
    "import matplotlib.pyplot as plt\n",
    "import seaborn as sns"
   ]
  },
  {
   "cell_type": "code",
   "execution_count": 23,
   "metadata": {},
   "outputs": [
    {
     "data": {
      "text/plain": [
       "<Axes: >"
      ]
     },
     "execution_count": 23,
     "metadata": {},
     "output_type": "execute_result"
    },
    {
     "data": {
      "image/png": "[encoded data removed]",
      "text/plain": [
       "<Figure size 2000x500 with 1 Axes>"
      ]
     },
     "metadata": {},
     "output_type": "display_data"
    }
   ],
   "source": [
    "plt.figure(figsize=(20,5))\n",
    "sns.lineplot(data=speed_preds, label=\"pred\", color='red')\n",
    "sns.lineplot(data=speed_labels, label=\"true\", color='green')\n",
    "sns.scatterplot(data=speed_anoms, label=\"anom\", color='green') # where points are on actual graph, ignore; on preds, anomaly"
   ]
  },
  {
   "cell_type": "code",
   "execution_count": 24,
   "metadata": {},
   "outputs": [
    {
     "data": {
      "text/plain": [
       "<Axes: >"
      ]
     },
     "execution_count": 24,
     "metadata": {},
     "output_type": "execute_result"
    },
    {
     "data": {
      "image/png": "[encoded data removed]",
      "text/plain": [
       "<Figure size 2000x500 with 1 Axes>"
      ]
     },
     "metadata": {},
     "output_type": "display_data"
    }
   ],
   "source": [
    "plt.figure(figsize=(20,5))\n",
    "sns.lineplot(data=density_preds, label=\"pred\", color='red')\n",
    "sns.lineplot(data=density_labels, label=\"true\", color='green')\n",
    "sns.scatterplot(data=density_anoms, label=\"anom\", color='green') # where points are on actual graph, ignore; on preds, anomaly"
   ]
  },
  {
   "cell_type": "code",
   "execution_count": 25,
   "metadata": {},
   "outputs": [],
   "source": [
    "def subgraph_anomaly_detection(subgraph, prev_hour, curr_hour):\n",
    "    #cur_hour -> prev_hour, pred_hour -> curr_hour\n",
    "    #dimensions: subgraph-set, curr_hour-snapshot of graph during current hour (207x2x12), pred_hour-model predicted snapshot of graph for the next hour (207x12)\n",
    "\n",
    "    prev_pred_means = []\n",
    "    for timestep in range(len(curr_hour[0][0])):\n",
    "        temp = []\n",
    "        for sensor in subgraph:\n",
    "            temp.append(prev_hour[sensor][timestep])\n",
    "        prev_pred_means.append(np.mean(temp))\n",
    "\n",
    "    base = np.mean(prev_pred_means)\n",
    "    dev = np.std(prev_pred_means)\n",
    "\n",
    "    cur_means = []\n",
    "    for timestep in range(len(curr_hour[0][0])):\n",
    "        temp = []\n",
    "        for sensor in subgraph:\n",
    "            temp.append(curr_hour[sensor][0][timestep])\n",
    "        cur_means.append(np.mean(temp))\n",
    "\n",
    "    anoms = []\n",
    "    for i in cur_means:\n",
    "        anoms.append(max(0.0, abs(i - base) - dev))\n",
    "\n",
    "    return anoms"
   ]
  },
  {
   "cell_type": "code",
   "execution_count": 26,
   "metadata": {
    "scrolled": true
   },
   "outputs": [],
   "source": [
    "def find_all_subgraph_anomalies(subgraphs, curr_hour, pred_hour):\n",
    "    anomaly_list = []\n",
    "    norm_anomaly_list = []\n",
    "    mean_anomaly_dict = {}\n",
    "    max_val = 0.0\n",
    "    for index, subgraph in enumerate(subgraphs):\n",
    "        ans = subgraph_anomaly_detection(subgraph, curr_hour, pred_hour)\n",
    "        anomaly_list.append(ans)\n",
    "        max_val = max(max_val,max(ans))\n",
    "\n",
    "    for index, anom in enumerate(anomaly_list):\n",
    "        temp = 0.0\n",
    "        count = 0\n",
    "        if(max_val==0):\n",
    "            norm_anoms = anom\n",
    "        else:\n",
    "            norm_anoms = [x/max_val for x in anom]\n",
    "        norm_anomaly_list.append(norm_anoms)\n",
    "\n",
    "        for i in norm_anoms:\n",
    "            if i > 0:\n",
    "                temp += i\n",
    "                count += 1\n",
    "        if(count == 0):\n",
    "            mean_anomaly_dict[index] = temp\n",
    "        else:\n",
    "            mean_anomaly_dict[index] = temp / count\n",
    "\n",
    "    return (norm_anomaly_list, mean_anomaly_dict)"
   ]
  },
  {
   "cell_type": "code",
   "execution_count": 27,
   "metadata": {},
   "outputs": [],
   "source": [
    "def top_k_anomalous_subgraphs(k, mean_anomaly_dict):\n",
    "    sorted_mean_anomaly_dict = sorted(mean_anomaly_dict.items(), key = lambda x : x[1], reverse = True)\n",
    "    top_k_anomaly = [x for x, y in sorted_mean_anomaly_dict]\n",
    "    return top_k_anomaly[0 : k]"
   ]
  },
  {
   "cell_type": "code",
   "execution_count": 28,
   "metadata": {},
   "outputs": [],
   "source": [
    "def micro_feature_analysis(anomalous_subgraphs, curr_hour, pred_hour):\n",
    "    anomalous_analysis = {}\n",
    "    for anomalous_subgraph in anomalous_subgraphs:\n",
    "        anomalous_analysis[anomalous_subgraph] = {}\n",
    "        for node in subgraphs[anomalous_subgraph]:\n",
    "            anomalous_analysis[anomalous_subgraph][node] = []\n",
    "            curr_hour_node_values = [float(x) for x in curr_hour[node][0]]\n",
    "            curr_hour_node_mean = np.mean(curr_hour_node_values)\n",
    "            curr_hour_node_dev = np.std(curr_hour_node_values)\n",
    "            pred_hour_node_values = [float(x) for x in pred_hour[node]]\n",
    "\n",
    "            for step in range(len(pred_hour[0])): #the range is basically how many timesteps, which is 12 here\n",
    "                anom = max(0.0, abs(pred_hour[node][step] - curr_hour_node_mean) - 2 * curr_hour_node_dev)\n",
    "                if(anom):\n",
    "                    anomalous_analysis[anomalous_subgraph][node].append(step)\n",
    "\n",
    "    return anomalous_analysis"
   ]
  },
  {
   "cell_type": "code",
   "execution_count": 29,
   "metadata": {},
   "outputs": [],
   "source": [
    "from sklearn.metrics import mean_squared_error\n",
    "from scipy.stats import zscore"
   ]
  },
  {
   "cell_type": "code",
   "execution_count": 30,
   "metadata": {},
   "outputs": [],
   "source": [
    "def prediction_based_anomaly(next_real_values, next_predictions, previous_real_values, previous_predictions, node):\n",
    "    # Calculate the residuals for the previous and next 12 timesteps\n",
    "    previous_residuals = np.array(previous_predictions[node]) - np.array(previous_real_values[node])\n",
    "    next_residuals = np.array(next_predictions[node]) - np.array(next_real_values[node])\n",
    "\n",
    "    # Calculate z-scores for the residuals of the previous 12 timesteps\n",
    "    z_scores_previous = zscore(previous_residuals)\n",
    "\n",
    "    # Define a threshold for anomaly detection based on the z-scores of the previous residuals\n",
    "    anomaly_threshold = np.mean(np.abs(z_scores_previous))\n",
    "\n",
    "    # Calculate z-scores for the residuals of the next 12 timesteps\n",
    "    z_scores_next = zscore(next_residuals)\n",
    "\n",
    "    # Identify anomalies in the residuals of the next 12 timesteps\n",
    "    anomalies = np.where(np.abs(z_scores_next) > anomaly_threshold)[0]\n",
    "\n",
    "    return anomalies"
   ]
  },
  {
   "cell_type": "code",
   "execution_count": 29,
   "metadata": {},
   "outputs": [],
   "source": [
    "from sklearn.cluster import KMeans"
   ]
  },
  {
   "cell_type": "code",
   "execution_count": null,
   "metadata": {},
   "outputs": [],
   "source": [
    "subgraph_means = {}\n",
    "\n",
    "for index, subgraph in enumerate(subgraphs):\n",
    "    node_speeds = []\n",
    "    for node in subgraph:\n",
    "        node_speeds.append(torch.mean(train_dataset[9231].x[node][0]))\n",
    "\n",
    "    subgraph_means[index] = np.mean(node_speeds)\n",
    "\n",
    "\n",
    "# subgraph_means_pd = pd.DataFrame(subgraph_means)\n",
    "k_values = range(1, 30)\n",
    "inertias = []\n",
    "feature_list = list(subgraph_means.values())\n",
    "\n",
    "for k in k_values:\n",
    "    kmeans = KMeans(n_clusters=k, random_state=0)\n",
    "    #feature_list = list(subgraph_means.values())\n",
    "    kmeans.fit(np.array(feature_list).reshape(-1, 1))  # X is your data\n",
    "    inertias.append(kmeans.inertia_)\n",
    "\n",
    "diff1 = np.diff(inertias)\n",
    "diff2 = np.diff(diff1)\n",
    "\n",
    "plt.figure(figsize=(8, 6))\n",
    "plt.plot(k_values, inertias, marker='o', linestyle='-', color='b')\n",
    "plt.xlabel('Number of Clusters (K)')\n",
    "plt.ylabel('Inertia')\n",
    "plt.title('Elbow Curve for K-means Clustering')\n",
    "plt.grid(True)\n",
    "plt.show()\n",
    "\n",
    "elbow_point = np.where(diff2 == max(diff2))[0][0] + 2\n",
    "\n",
    "print(\"Elbow point is \", elbow_point)\n",
    "kmeans = KMeans(n_clusters=elbow_point, random_state=0)\n",
    "kmeans.fit(np.array(feature_list).reshape(-1, 1))\n",
    "cluster_labels = kmeans.labels_\n",
    "print(\"cluster assignments are ,\",  cluster_labels)\n",
    "\n",
    "import matplotlib.pyplot as plt\n",
    "#Initialize lists to store data points for each cluster\n",
    "cluster_data = [[] for _ in range(elbow_point)]\n",
    "\n",
    "# Organize data points by cluster\n",
    "for i, label in enumerate(cluster_labels):\n",
    "    if label == cluster:\n",
    "        cluster_data[label].append(feature_values[i])\n",
    "# Plot the data points colored by their cluster assignment\n",
    "for cluster in range(elbow_point):\n",
    "    plt.scatter(cluster_data[cluster], [cluster] * np.sum(cluster_labels == cluster), label=f'Cluster {cluster}')\n",
    "\n",
    "plt.xlabel('Feature Value')\n",
    "plt.ylabel('Cluster')\n",
    "plt.legend()\n",
    "plt.title('K-means Clustering with a Single Feature')\n",
    "plt.show()"
   ]
  },
  {
   "cell_type": "code",
   "execution_count": 31,
   "metadata": {},
   "outputs": [],
   "source": [
    "import random\n",
    "import copy"
   ]
  },
  {
   "cell_type": "code",
   "execution_count": 32,
   "metadata": {},
   "outputs": [],
   "source": [
    "injected_hours_population = range(12, 500)\n",
    "injected_hour_count = 100\n",
    "k = 5\n",
    "\n",
    "speed_correlation_threshold = 0.2  # Adjust as needed\n",
    "density_correlation_threshold = 0.0  # Adjust as needed\n"
   ]
  },
  {
   "cell_type": "markdown",
   "metadata": {},
   "source": [
    "### Injection method 1\n",
    "- only macro detection\n",
    "- 1 random node selected per hour\n",
    "- entire hour injected for the randomly selected hours"
   ]
  },
  {
   "cell_type": "code",
   "execution_count": 76,
   "metadata": {},
   "outputs": [
    {
     "name": "stdout",
     "output_type": "stream",
     "text": [
      "0.57\n"
     ]
    }
   ],
   "source": [
    "injected_dataset = copy.deepcopy(test_dataset)\n",
    "injected_dict = {}\n",
    "injected_hours = random.sample(injected_hours_population, injected_hour_count) # injecting into 100 random hours in the first 2000 hours\n",
    "\n",
    "for i in range(injected_hour_count):\n",
    "    injected_node = random.randrange(0, 207) # selecting 1 random node every injected hour\n",
    "    injected_dict[injected_hours[i]] = injected_node\n",
    "    anomaly_vals = [random.uniform(-2.3, -2.6522) for i in range(12)] # injecting the complete hour\n",
    "    injected_dataset[injected_hours[i]].x[injected_node][0] = torch.tensor(anomaly_vals)\n",
    "\n",
    "macro_prob = 0\n",
    "\n",
    "for hour in injected_hours_population:\n",
    "    subgraphs = create_subgraphs(injected_dataset[hour], speed_correlation_threshold, density_correlation_threshold)\n",
    "\n",
    "    injected_test_snapshot = injected_dataset[hour].to(device)\n",
    "    prev_injected_test_snapshot = injected_dataset[hour - 12].to(device)\n",
    "    predicted = model_speed(injected_test_snapshot.x, injected_test_snapshot.edge_index).cpu().detach().numpy()\n",
    "    predicted_prev = model_speed(prev_injected_test_snapshot.x, prev_injected_test_snapshot.edge_index).cpu().detach().numpy()\n",
    "\n",
    "    anomaly_list, mean_anomaly_dict = find_all_subgraph_anomalies(subgraphs, predicted_prev, injected_test_snapshot.x.cpu())\n",
    "    anomalous_subgraphs = top_k_anomalous_subgraphs(k, mean_anomaly_dict)\n",
    "\n",
    "    anom_node_list = []\n",
    "    if hour in injected_dict:\n",
    "        for subgraph in anomalous_subgraphs:\n",
    "            for node in subgraphs[subgraph]:\n",
    "                anom_node_list.append(node) # list of all nodes in every anomalous subgraph for the current hour\n",
    "        if(injected_dict[hour] in anom_node_list):\n",
    "            macro_prob += 1\n",
    "\n",
    "print(macro_prob / injected_hour_count)"
   ]
  },
  {
   "cell_type": "markdown",
   "metadata": {},
   "source": [
    "### Injection method 2\n",
    "- only macro detection\n",
    "- random number of nodes selected per hour\n",
    "  - need to count number of nodes injected over all hours to calculate probability\n",
    "- entire hour injected for the randomly selected hours "
   ]
  },
  {
   "cell_type": "code",
   "execution_count": 77,
   "metadata": {},
   "outputs": [
    {
     "name": "stdout",
     "output_type": "stream",
     "text": [
      "0.8575418994413407\n"
     ]
    }
   ],
   "source": [
    "injected_dataset = copy.deepcopy(test_dataset)\n",
    "injected_dict = {}\n",
    "injected_hours = random.sample(injected_hours_population, injected_hour_count)\n",
    "\n",
    "macro_prob = 0\n",
    "count = 0\n",
    "\n",
    "for hour in injected_hours_population:\n",
    "    subgraphs = create_subgraphs(injected_dataset[hour], speed_correlation_threshold, density_correlation_threshold)\n",
    "\n",
    "    if hour in injected_hours:\n",
    "        injected_subgraph = random.randrange(0, len(subgraphs))\n",
    "        # selecting a random number of random node every injected hour\n",
    "        injected_nodes = random.sample(list(subgraphs[injected_subgraph]), random.randrange(1, len(subgraphs[injected_subgraph]) + 1))\n",
    "        injected_dict[hour] = injected_nodes\n",
    "        count += len(injected_nodes)\n",
    "        for node in injected_nodes:\n",
    "            anomaly_vals = [random.uniform(-2.3, -2.6522) for i in range(12)]\n",
    "            injected_dataset[hour].x[node][0] = torch.tensor(anomaly_vals)\n",
    "\n",
    "    injected_test_snapshot = injected_dataset[hour].to(device)\n",
    "    prev_injected_test_snapshot = injected_dataset[hour - 12].to(device)\n",
    "    predicted = model_speed(injected_test_snapshot.x, injected_test_snapshot.edge_index).cpu().detach().numpy()\n",
    "    predicted_prev = model_speed(prev_injected_test_snapshot.x, prev_injected_test_snapshot.edge_index).cpu().detach().numpy()\n",
    "\n",
    "    anomaly_list, mean_anomaly_dict = find_all_subgraph_anomalies(subgraphs, predicted_prev, injected_test_snapshot.x.cpu())\n",
    "    anomalous_subgraphs = top_k_anomalous_subgraphs(k, mean_anomaly_dict)\n",
    "\n",
    "    anom_node_list = []\n",
    "    # Bro, this is for macro feature anomaly detection accuracy? Sure, lets go with that\n",
    "    if hour in injected_dict:\n",
    "        for subgraph in anomalous_subgraphs:\n",
    "            for node in subgraphs[subgraph]:\n",
    "                anom_node_list.append(node)\n",
    "        for anom_node in injected_dict[hour]:\n",
    "            if anom_node in anom_node_list:\n",
    "                macro_prob += 1\n",
    "\n",
    "print(macro_prob / count)"
   ]
  },
  {
   "cell_type": "markdown",
   "metadata": {},
   "source": [
    "### Injection method 3\n",
    "- macro and first micro detection\n",
    "- random number of nodes selected per hour\n",
    "  - need to count number of nodes injected over all hours to calculate probability\n",
    "- entire hour injected for the randomly selected hours "
   ]
  },
  {
   "cell_type": "code",
   "execution_count": 73,
   "metadata": {},
   "outputs": [
    {
     "name": "stdout",
     "output_type": "stream",
     "text": [
      "0.9052631578947369\n",
      "0.7543859649122807\n"
     ]
    }
   ],
   "source": [
    "injected_dataset = copy.deepcopy(test_dataset)\n",
    "injected_dict = {}\n",
    "injected_hours = random.sample(injected_hours_population, injected_hour_count)\n",
    "\n",
    "macro_prob = 0\n",
    "micro_prob = 0\n",
    "count = 0\n",
    "\n",
    "for hour in injected_hours_population:\n",
    "    subgraphs = create_subgraphs(injected_dataset[hour], speed_correlation_threshold, density_correlation_threshold)\n",
    "\n",
    "    if hour in injected_hours:\n",
    "        injected_subgraph = random.randrange(0, len(subgraphs))\n",
    "        injected_nodes = random.sample(list(subgraphs[injected_subgraph]), random.randrange(1, len(subgraphs[injected_subgraph]) + 1))\n",
    "        injected_dict[hour] = injected_nodes\n",
    "        count += len(injected_nodes)\n",
    "        for node in injected_nodes:\n",
    "            anomaly_vals = [random.uniform(-2.3, -2.6522) for i in range(12)]\n",
    "            injected_dataset[hour].x[node][0] = torch.tensor(anomaly_vals)\n",
    "\n",
    "    injected_test_snapshot = injected_dataset[hour].to(device)\n",
    "    prev_injected_test_snapshot = injected_dataset[hour - 12].to(device)\n",
    "    predicted = model_speed(injected_test_snapshot.x, injected_test_snapshot.edge_index).cpu().detach().numpy()\n",
    "    predicted_prev = model_speed(prev_injected_test_snapshot.x, prev_injected_test_snapshot.edge_index).cpu().detach().numpy()\n",
    "\n",
    "    anomaly_list, mean_anomaly_dict = find_all_subgraph_anomalies(subgraphs, predicted_prev, injected_test_snapshot.x.cpu())\n",
    "    anomalous_subgraphs = top_k_anomalous_subgraphs(k, mean_anomaly_dict)\n",
    "\n",
    "    anom_node_list_macro = []\n",
    "    # Bro, this is for macro feature anomaly detection accuracy? Sure, lets go with that\n",
    "    if hour in injected_dict:\n",
    "        for subgraph in anomalous_subgraphs:\n",
    "            for node in subgraphs[subgraph]:\n",
    "                anom_node_list_macro.append(node)\n",
    "        for anom_node in injected_dict[hour]:\n",
    "            if anom_node in anom_node_list_macro:\n",
    "                macro_prob += 1\n",
    "\n",
    "    micro_res = {}\n",
    "    anom_node_list_micro = []\n",
    "    micro_res = micro_feature_analysis(anomalous_subgraphs, injected_test_snapshot.x.cpu(), predicted)\n",
    "\n",
    "    if hour in injected_dict:\n",
    "        for subgraph in micro_res:\n",
    "            for node in micro_res[subgraph]:\n",
    "                if(len(micro_res[subgraph][node])):\n",
    "                    anom_node_list_micro.append(node)\n",
    "\n",
    "        for anom_node in injected_dict[hour]:\n",
    "            if anom_node in anom_node_list_micro:\n",
    "                micro_prob += 1\n",
    "\n",
    "print(macro_prob / count)\n",
    "print(micro_prob / count)"
   ]
  },
  {
   "cell_type": "markdown",
   "metadata": {},
   "source": [
    "### Injection method 4\n",
    "- only first micro detection\n",
    "- random number of nodes selected per hour\n",
    "- random timesteps in selected in each of the randomly selected hours, such that the majority of that hour is anomalous\n",
    "  - need to count number of timesteps for each node over every hour to calculate probability"
   ]
  },
  {
   "cell_type": "code",
   "execution_count": 82,
   "metadata": {},
   "outputs": [
    {
     "name": "stdout",
     "output_type": "stream",
     "text": [
      "0.25647451963241436\n"
     ]
    }
   ],
   "source": [
    "injected_dataset = copy.deepcopy(test_dataset)\n",
    "injected_dict = {}\n",
    "injected_hours = random.sample(injected_hours_population, injected_hour_count)\n",
    "\n",
    "micro_prob = 0\n",
    "count = 0\n",
    "\n",
    "k = 15\n",
    "\n",
    "for hour in injected_hours_population:\n",
    "    subgraphs = create_subgraphs(injected_dataset[hour], speed_correlation_threshold, density_correlation_threshold)\n",
    "\n",
    "    if hour in injected_hours:\n",
    "        injected_subgraph = random.randrange(0, len(subgraphs))\n",
    "        injected_nodes = random.sample(list(subgraphs[injected_subgraph]), random.randrange(1, len(subgraphs[injected_subgraph]) + 1))\n",
    "        injected_dict[hour] = {}\n",
    "\n",
    "        for node in injected_nodes:\n",
    "            injected_dict[hour][node] = []\n",
    "            # injecting into a random number of timesteps for every injected hour\n",
    "            injected_timesteps = random.sample(range(0, 12), random.randrange(6, 13))\n",
    "            count += len(injected_timesteps)\n",
    "            for timestep in injected_timesteps:\n",
    "                injected_dataset[hour].x[node][0][timestep] = torch.tensor(random.uniform(-2.3, -2.6522))\n",
    "                injected_dict[hour][node].append(timestep)\n",
    "\n",
    "    injected_test_snapshot = injected_dataset[hour].to(device)\n",
    "    prev_injected_test_snapshot = injected_dataset[hour - 12].to(device)\n",
    "    predicted = model_speed(injected_test_snapshot.x, injected_test_snapshot.edge_index).cpu().detach().numpy()\n",
    "    predicted_prev = model_speed(prev_injected_test_snapshot.x, prev_injected_test_snapshot.edge_index).cpu().detach().numpy()\n",
    "\n",
    "    anomaly_list, mean_anomaly_dict = find_all_subgraph_anomalies(subgraphs, predicted_prev, injected_test_snapshot.x.cpu())\n",
    "    anomalous_subgraphs = top_k_anomalous_subgraphs(k, mean_anomaly_dict)\n",
    "\n",
    "    micro_res = {}\n",
    "    anom_node_list_micro = {}\n",
    "    micro_res = micro_feature_analysis(anomalous_subgraphs, injected_test_snapshot.x.cpu(), predicted)\n",
    "\n",
    "    if hour in injected_dict:\n",
    "        for subgraph in micro_res:\n",
    "            for node in micro_res[subgraph]:\n",
    "                if(len(micro_res[subgraph][node])):\n",
    "                    anom_node_list_micro[node] = micro_res[subgraph][node]\n",
    "\n",
    "        for anom_node in injected_dict[hour]:\n",
    "            if anom_node in anom_node_list_micro:\n",
    "                for timestep in injected_dict[hour][anom_node]:\n",
    "                    if timestep in anom_node_list_micro[anom_node]:\n",
    "                        micro_prob += 1\n",
    "\n",
    "print(micro_prob / count)"
   ]
  },
  {
   "cell_type": "markdown",
   "metadata": {},
   "source": [
    "### Injection method 5\n",
    "- only second micro detection\n",
    "- random number of nodes selected per hour\n",
    "- random timesteps in selected in each of the randomly selected hours, such that the majority of that hour is anomalous\n",
    "  - need to count number of timesteps for each node over every hour to calculate probability"
   ]
  },
  {
   "cell_type": "code",
   "execution_count": 83,
   "metadata": {
    "scrolled": true
   },
   "outputs": [
    {
     "name": "stdout",
     "output_type": "stream",
     "text": [
      "0.194293254164605\n"
     ]
    }
   ],
   "source": [
    "injected_dataset = copy.deepcopy(test_dataset)\n",
    "injected_dict = {}\n",
    "injected_hours = random.sample(injected_hours_population[12:], injected_hour_count)\n",
    "\n",
    "micro_prob = 0\n",
    "count = 0\n",
    "\n",
    "k = 15\n",
    "\n",
    "for hour in injected_hours_population[12:]:\n",
    "    subgraphs = create_subgraphs(injected_dataset[hour], speed_correlation_threshold, density_correlation_threshold)\n",
    "\n",
    "    if hour in injected_hours:\n",
    "        injected_subgraph = random.randrange(0, len(subgraphs))\n",
    "        injected_nodes = random.sample(list(subgraphs[injected_subgraph]), random.randrange(1, len(subgraphs[injected_subgraph]) + 1))\n",
    "        injected_dict[hour] = {}\n",
    "\n",
    "        for node in injected_nodes:\n",
    "            injected_dict[hour][node] = []\n",
    "            injected_timesteps = random.sample(range(0, 12), random.randrange(6, 13))\n",
    "            count += len(injected_timesteps)\n",
    "            for timestep in injected_timesteps:\n",
    "                injected_dataset[hour].x[node][0][timestep] = torch.tensor(random.uniform(-2.3, -2.6522))\n",
    "                injected_dict[hour][node].append(timestep)\n",
    "\n",
    "    next_injected_test_snapshot = injected_dataset[hour]\n",
    "    curr_injected_test_snapshot = injected_dataset[hour - 12].to(device)\n",
    "    prev_injected_test_snapshot = injected_dataset[hour - 12 - 12].to(device)\n",
    "    curr_prediction = model_speed(prev_injected_test_snapshot.x, prev_injected_test_snapshot.edge_index).cpu().detach().numpy()\n",
    "    next_prediction = model_speed(curr_injected_test_snapshot.x, curr_injected_test_snapshot.edge_index).cpu().detach().numpy()\n",
    "\n",
    "    anomaly_list, mean_anomaly_dict = find_all_subgraph_anomalies(subgraphs, curr_prediction, next_injected_test_snapshot.x)\n",
    "    anomalous_subgraphs = top_k_anomalous_subgraphs(k, mean_anomaly_dict)\n",
    "\n",
    "    anom_node_list_micro = {}\n",
    "\n",
    "    if hour in injected_dict:\n",
    "        for subgraph in anomalous_subgraphs:\n",
    "            for node in subgraphs[subgraph]:\n",
    "                anom_node_list_micro[node] = prediction_based_anomaly(next_injected_test_snapshot.x.permute(1, 0, 2)[0], next_prediction, curr_injected_test_snapshot.x.cpu().permute(1, 0, 2)[0], curr_prediction, node)\n",
    "\n",
    "        for anom_node in injected_dict[hour]:\n",
    "            if anom_node in anom_node_list_micro:\n",
    "                for timestep in injected_dict[hour][anom_node]:\n",
    "                    if timestep in anom_node_list_micro[anom_node]:\n",
    "                        micro_prob += 1\n",
    "\n",
    "print(micro_prob / count)"
   ]
  },
  {
   "cell_type": "markdown",
   "metadata": {},
   "source": [
    "Anomaly injection according to Paper that was found"
   ]
  },
  {
   "cell_type": "code",
   "execution_count": 33,
   "metadata": {},
   "outputs": [
    {
     "name": "stdout",
     "output_type": "stream",
     "text": [
      "Done calculating max and min speeds bro\n",
      "Done one part bro\n",
      "Done one part bro\n",
      "Done one part bro\n",
      "Done one part bro\n",
      "Done one part bro\n",
      "Done one part bro\n",
      "Done one part bro\n",
      "Done one part bro\n",
      "Done one part bro\n",
      "Done one part bro\n",
      "Done one part bro\n",
      "Done one part bro\n",
      "Done one part bro\n",
      "Done one part bro\n",
      "Done one part bro\n",
      "Done one part bro\n",
      "Done one part bro\n",
      "Done one part bro\n",
      "Done one part bro\n",
      "Done one part bro\n",
      "Done one part bro\n",
      "Done one part bro\n",
      "Done one part bro\n",
      "Done one part bro\n",
      "Done one part bro\n",
      "Done one part bro\n",
      "Done one part bro\n",
      "Done one part bro\n",
      "Done one part bro\n",
      "Done one part bro\n",
      "Done one part bro\n",
      "Done one part bro\n",
      "Done one part bro\n",
      "Done one part bro\n",
      "Done one part bro\n",
      "Done one part bro\n",
      "Done one part bro\n",
      "Done one part bro\n",
      "Done one part bro\n",
      "Done one part bro\n",
      "Done one part bro\n",
      "Done one part bro\n",
      "Done one part bro\n",
      "Done one part bro\n",
      "Done one part bro\n",
      "Done one part bro\n",
      "Done one part bro\n",
      "Done one part bro\n",
      "Done one part bro\n",
      "Done one part bro\n",
      "Done one part bro\n",
      "Done one part bro\n",
      "Done one part bro\n",
      "Done one part bro\n",
      "Done one part bro\n",
      "Done one part bro\n",
      "Done one part bro\n",
      "Done one part bro\n",
      "Done one part bro\n",
      "Done one part bro\n",
      "Done one part bro\n",
      "Done one part bro\n",
      "Done one part bro\n",
      "Done one part bro\n",
      "Done one part bro\n",
      "Done one part bro\n",
      "Done one part bro\n",
      "Done one part bro\n",
      "Done one part bro\n",
      "Done one part bro\n",
      "Done one part bro\n",
      "Done one part bro\n",
      "Done one part bro\n",
      "Done one part bro\n",
      "Done one part bro\n",
      "Done one part bro\n",
      "Done one part bro\n",
      "Done one part bro\n",
      "Done one part bro\n",
      "Done one part bro\n",
      "Done one part bro\n",
      "Done one part bro\n",
      "Done one part bro\n",
      "Done one part bro\n",
      "Done one part bro\n",
      "Done one part bro\n",
      "Done calculating max and min speeds bro\n",
      "Done one part bro\n",
      "Done one part bro\n",
      "Done one part bro\n",
      "Done one part bro\n",
      "Done one part bro\n",
      "Done one part bro\n",
      "Done one part bro\n",
      "Done one part bro\n",
      "Done one part bro\n",
      "Done one part bro\n",
      "Done one part bro\n",
      "Done one part bro\n",
      "Done one part bro\n",
      "Done one part bro\n",
      "Done one part bro\n",
      "Done one part bro\n",
      "Done one part bro\n",
      "Done one part bro\n",
      "Done one part bro\n",
      "Done one part bro\n",
      "Done one part bro\n",
      "Done one part bro\n",
      "Done one part bro\n",
      "Done one part bro\n",
      "Done one part bro\n",
      "Done one part bro\n",
      "Done one part bro\n",
      "Done one part bro\n",
      "Done one part bro\n",
      "Done one part bro\n",
      "Done one part bro\n",
      "Done one part bro\n",
      "Done one part bro\n",
      "Done one part bro\n",
      "Done one part bro\n",
      "Done one part bro\n",
      "Done one part bro\n",
      "Done one part bro\n",
      "Done one part bro\n",
      "Done one part bro\n",
      "Done one part bro\n",
      "Done one part bro\n",
      "Done one part bro\n",
      "Done one part bro\n",
      "Done one part bro\n",
      "Done one part bro\n",
      "Done one part bro\n",
      "Done one part bro\n",
      "Done one part bro\n",
      "Done one part bro\n",
      "Done one part bro\n",
      "Done one part bro\n",
      "Done one part bro\n",
      "Done one part bro\n",
      "Done one part bro\n",
      "Done one part bro\n",
      "Done one part bro\n",
      "Done one part bro\n",
      "Done one part bro\n",
      "Done one part bro\n",
      "Done one part bro\n",
      "Done one part bro\n",
      "Done one part bro\n",
      "Done one part bro\n",
      "Done one part bro\n",
      "Done one part bro\n",
      "Done one part bro\n",
      "Done one part bro\n",
      "Done one part bro\n",
      "Done one part bro\n",
      "Done one part bro\n",
      "Done one part bro\n",
      "Done one part bro\n",
      "Done one part bro\n",
      "Done one part bro\n",
      "Done one part bro\n",
      "Done one part bro\n",
      "Done one part bro\n",
      "Done one part bro\n",
      "Done one part bro\n",
      "Done one part bro\n",
      "Done one part bro\n",
      "Done one part bro\n",
      "Done one part bro\n",
      "Done one part bro\n",
      "Done one part bro\n"
     ]
    },
    {
     "data": {
      "text/plain": [
       "Data(x=[207, 2, 12], edge_index=[2, 1722], edge_attr=[1722], y=[207, 2, 12])"
      ]
     },
     "execution_count": 33,
     "metadata": {},
     "output_type": "execute_result"
    }
   ],
   "source": [
    "from anomaly_dataset_loader import METRLADatasetLoader\n",
    "\n",
    "loader = METRLADatasetLoader()\n",
    "\n",
    "anomaly_dataset = loader.get_dataset()\n",
    "\n",
    "dataset[0]"
   ]
  },
  {
   "cell_type": "code",
   "execution_count": 37,
   "metadata": {},
   "outputs": [
    {
     "data": {
      "text/plain": [
       "34249"
      ]
     },
     "execution_count": 37,
     "metadata": {},
     "output_type": "execute_result"
    }
   ],
   "source": [
    "anomaly_dataset_length = 0\n",
    "for i in anomaly_dataset:\n",
    "    anomaly_dataset_length += 1\n",
    "anomaly_dataset_length"
   ]
  },
  {
   "cell_type": "code",
   "execution_count": null,
   "metadata": {},
   "outputs": [],
   "source": [
    "for hour in range(12, anomaly_dataset_length):\n",
    "    cur_test_snapshot = anomaly_dataset[hour].to(device)\n",
    "    prev_test_snapshot = anomaly_dataset[hour - 12].to(device)\n",
    "    predicted = model_speed(cur_test_snapshot.x, cur_test_snapshot.edge_index).cpu().detach().numpy()\n",
    "    predicted_prev = model_speed(prev_test_snapshot.x, prev_test_snapshot.edge_index).cpu().detach().numpy()\n",
    "    \n",
    "    anomaly_list, mean_anomaly_dict = find_all_subgraph_anomalies(subgraphs, predicted_prev, injected_test_snapshot.x.cpu())\n",
    "    anomalous_subgraphs = top_k_anomalous_subgraphs(k, mean_anomaly_dict)\n",
    "    \n",
    "    micro_res = {}\n",
    "    anom_node_list_micro = {}\n",
    "    micro_res = micro_feature_analysis(anomalous_subgraphs, injected_test_snapshot.x.cpu(), predicted)\n",
    "    \n",
    "    "
   ]
  }
 ],
 "metadata": {
  "kernelspec": {
   "display_name": "Python 3 (ipykernel)",
   "language": "python",
   "name": "python3"
  },
  "language_info": {
   "codemirror_mode": {
    "name": "ipython",
    "version": 3
   },
   "file_extension": ".py",
   "mimetype": "text/x-python",
   "name": "python",
   "nbconvert_exporter": "python",
   "pygments_lexer": "ipython3",
   "version": "3.11.7"
  }
 },
 "nbformat": 4,
 "nbformat_minor": 2
}
